{
  "nbformat": 4,
  "nbformat_minor": 0,
  "metadata": {
    "colab": {
      "provenance": []
    },
    "kernelspec": {
      "name": "python3",
      "display_name": "Python 3"
    },
    "language_info": {
      "name": "python"
    }
  },
  "cells": [
    {
      "cell_type": "code",
      "source": [
        "a = [2, 3, 4, 5, 6]\n",
        "rev_a = []\n",
        "for _ in range(len(a)):\n",
        "    rev_a.append(a.pop())\n",
        "\n",
        "print(rev_a)\n"
      ],
      "metadata": {
        "id": "7YY1_FAbJF2z",
        "colab": {
          "base_uri": "https://localhost:8080/"
        },
        "outputId": "1440dff0-57bd-414b-a3a9-e2e7d929f994"
      },
      "execution_count": 2,
      "outputs": [
        {
          "output_type": "stream",
          "name": "stdout",
          "text": [
            "[6, 5, 4, 3, 2]\n"
          ]
        }
      ]
    },
    {
      "cell_type": "code",
      "source": [],
      "metadata": {
        "id": "PgJGjGJhB7Aq"
      },
      "execution_count": null,
      "outputs": []
    }
  ]
}